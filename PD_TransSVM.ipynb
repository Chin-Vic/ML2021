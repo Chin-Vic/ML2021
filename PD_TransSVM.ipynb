{
 "cells": [
  {
   "cell_type": "code",
   "execution_count": 8,
   "metadata": {},
   "outputs": [],
   "source": [
    "from sklearn import manifold\n",
    "import itertools\n",
    "from sklearn import svm\n",
    "import tensorflow as tf\n",
    "import json\n",
    "from sklearn.decomposition import PCA,SparsePCA,KernelPCA,IncrementalPCA\n",
    "\n",
    "\n",
    "from scipy import interp\n",
    "from PIL import Image, ImageEnhance, ImageOps\n",
    "import cv2\n",
    "import pandas as pd\n",
    "import numpy as np\n",
    "from matplotlib import pyplot as plt\n",
    "from matplotlib import pyplot as plt2\n",
    "import collections\n",
    "from sklearn.preprocessing import label_binarize\n",
    "import math\n",
    "import random\n",
    "from keras.applications.inception_v3 import InceptionV3 as iv3\n",
    "from keras.applications.xception import Xception\n",
    "from keras.applications.vgg16 import VGG16\n",
    "from keras.applications.vgg19 import VGG19\n",
    "from keras.applications.vgg19 import VGG19\n",
    "\n",
    "from keras.applications.mobilenet_v2 import MobileNetV2\n",
    "# from tensorflow.keras.applications.EfficientNetB7 import EfficientNetB7\n",
    "from keras.applications.densenet import DenseNet121\n",
    "from keras import layers\n",
    "from keras.layers import GlobalAveragePooling2D\n",
    "from keras.applications.inception_resnet_v2 import InceptionResNetV2 as ivr2\n",
    "from keras.applications.resnet50 import ResNet50\n",
    "from keras.models import Model\n",
    "from keras.optimizers import RMSprop\n",
    "from keras import backend as K\n",
    "import os, os.path\n",
    "import gc\n",
    "import time\n",
    "from keras.preprocessing.image import ImageDataGenerator\n",
    "import efficientnet.keras as efn \n",
    "from efficientnet.keras import center_crop_and_resize, preprocess_input\n",
    "from sklearn.metrics import roc_curve, auc\n",
    "from sklearn.metrics import roc_auc_score\n",
    "from sklearn import metrics\n",
    "tf.compat.v1.disable_eager_execution()\n"
   ]
  },
  {
   "cell_type": "code",
   "execution_count": 2,
   "metadata": {},
   "outputs": [],
   "source": [
    "def plot_confusion_matrix(cm, classes,\n",
    "                          normalize=False,\n",
    "                          title='Confusion matrix',\n",
    "                          cmap=plt.cm.Blues):\n",
    "    \"\"\"\n",
    "    This function prints and plots the confusion matrix.\n",
    "    Normalization can be applied by setting `normalize=True`.\n",
    "    \"\"\"\n",
    "    if normalize:\n",
    "        cm = cm.astype('float') / cm.sum(axis=1)[:, np.newaxis]\n",
    "        print(\"Normalized confusion matrix\")\n",
    "    else:\n",
    "        print('Confusion matrix, without normalization')\n",
    "\n",
    "    print(cm)\n",
    "\n",
    "    plt.imshow(cm, interpolation='nearest', cmap=cmap)\n",
    "    plt.title(title)\n",
    "    plt.colorbar()\n",
    "    tick_marks = np.arange(len(classes))\n",
    "    plt.xticks(tick_marks, classes, rotation=45)\n",
    "    plt.yticks(tick_marks, classes)\n",
    "\n",
    "    fmt = '.2f' if normalize else 'd'\n",
    "    thresh = cm.max() / 2.\n",
    "    for i, j in itertools.product(range(cm.shape[0]), range(cm.shape[1])):\n",
    "        plt.text(j, i, format(cm[i, j], fmt),\n",
    "                 horizontalalignment=\"center\",\n",
    "                 color=\"white\" if cm[i, j] > thresh else \"black\")\n",
    "\n",
    "    plt.ylabel('True label')\n",
    "    plt.xlabel('Predicted label')\n",
    "    plt.tight_layout()\n",
    "\n",
    "class Rand_Augment():\n",
    "    def __init__(self, Numbers=None, max_Magnitude=None):\n",
    "        self.transforms = [\n",
    "                            'autocontrast', \n",
    "                           'equalize', \n",
    "                           'rotate', \n",
    "                           'solarize', \n",
    "                           'color', \n",
    "                           'posterize',\n",
    "                           'contrast', \n",
    "                           'brightness', \n",
    "                           'sharpness', \n",
    "                           'shearX', \n",
    "                           'shearY', \n",
    "                           'translateX', \n",
    "                           'translateY',\n",
    "                            \"invert\"\n",
    "                          ]\n",
    "        if Numbers is None:\n",
    "            self.Numbers = len(self.transforms) // 2\n",
    "        else:\n",
    "            self.Numbers = Numbers\n",
    "        if max_Magnitude is None:\n",
    "            self.max_Magnitude = 10\n",
    "        else:\n",
    "            self.max_Magnitude = max_Magnitude\n",
    "        fillcolor = 128\n",
    "        self.ranges = {\n",
    "            # these  Magnitude   range , you  must test  it  yourself , see  what  will happen  after these  operation ,\n",
    "            # it is no  need to obey  the value  in  autoaugment.py\n",
    "            \"shearX\": np.linspace(0, 0.2, 10),\n",
    "            \"shearY\": np.linspace(0, 0.2, 10),\n",
    "            \"translateX\": np.linspace(0, 0.2, 10),\n",
    "            \"translateY\": np.linspace(0, 0.2, 10),\n",
    "            \"rotate\": np.linspace(-30, 30, 10),\n",
    "            \"color\": np.linspace(0.0, 0.2, 10),\n",
    "            \"posterize\": np.round(np.linspace(8, 4, 10), 0).astype(np.int),\n",
    "            \"solarize\": np.linspace(256, 231, 10),\n",
    "            \"contrast\": np.linspace(0.0, 0.9, 10),\n",
    "#             0.9\n",
    "            \"sharpness\": np.linspace(0.0, 0.9, 10),\n",
    "            \"brightness\": np.linspace(0.0, 0.9, 10),\n",
    "#             0.9\n",
    "            \"autocontrast\": [0] * 10,\n",
    "            \"equalize\": [0] * 10,           \n",
    "            \"invert\": [0] * 10\n",
    "        }\n",
    "        self.func = {\n",
    "            \"shearX\": lambda img, magnitude: img.transform(\n",
    "                img.size, Image.AFFINE, (1, magnitude * random.choice([-1, 1]), 0, 0, 1, 0),\n",
    "                Image.BICUBIC, fill=fillcolor),\n",
    "            \"shearY\": lambda img, magnitude: img.transform(\n",
    "                img.size, Image.AFFINE, (1, 0, 0, magnitude * random.choice([-1, 1]), 1, 0),\n",
    "                Image.BICUBIC, fill=fillcolor),\n",
    "            \"translateX\": lambda img, magnitude: img.transform(\n",
    "                img.size, Image.AFFINE, (1, 0, magnitude * img.size[0] * random.choice([-1, 1]), 0, 1, 0),\n",
    "                fill=fillcolor),\n",
    "            \"translateY\": lambda img, magnitude: img.transform(\n",
    "                img.size, Image.AFFINE, (1, 0, 0, 0, 1, magnitude * img.size[1] * random.choice([-1, 1])),\n",
    "                fill=fillcolor),\n",
    "            \"rotate\": lambda img, magnitude: self.rotate_with_fill(img, magnitude),\n",
    "            # \"rotate\": lambda img, magnitude: img.rotate(magnitude * random.choice([-1, 1])),\n",
    "            \"color\": lambda img, magnitude: ImageEnhance.Color(img).enhance(1 + magnitude * random.choice([-1, 1])),\n",
    "            \"posterize\": lambda img, magnitude: ImageOps.posterize(img, magnitude),\n",
    "            \"solarize\": lambda img, magnitude: ImageOps.solarize(img, magnitude),\n",
    "            \"contrast\": lambda img, magnitude: ImageEnhance.Contrast(img).enhance(\n",
    "                1 + magnitude * random.choice([-1, 1])),\n",
    "            \"sharpness\": lambda img, magnitude: ImageEnhance.Sharpness(img).enhance(\n",
    "                1 + magnitude * random.choice([-1, 1])),\n",
    "            \"brightness\": lambda img, magnitude: ImageEnhance.Brightness(img).enhance(\n",
    "                1 + magnitude * random.choice([-1, 1])),\n",
    "            \"autocontrast\": lambda img, magnitude: ImageOps.autocontrast(img),\n",
    "            \"equalize\": lambda img, magnitude: img,\n",
    "            \"invert\": lambda img, magnitude: ImageOps.invert(img)\n",
    "        }\n",
    "\n",
    "    def rand_augment(self):\n",
    "        \"\"\"Generate a set of distortions.\n",
    "             Args:\n",
    "             N: Number of augmentation transformations to apply sequentially. N  is len(transforms)/2  will be best\n",
    "             M: Max_Magnitude for all the transformations. should be  <= self.max_Magnitude \"\"\"\n",
    "\n",
    "        M = np.random.randint(0, self.max_Magnitude, self.Numbers)\n",
    "\n",
    "        sampled_ops = np.random.choice(self.transforms, self.Numbers)\n",
    "        return [(op, Magnitude) for (op, Magnitude) in zip(sampled_ops, M)]\n",
    "\n",
    "    def __call__(self, image):\n",
    "        operations = self.rand_augment()\n",
    "        for (op_name, M) in operations:\n",
    "            operation = self.func[op_name]\n",
    "            mag = self.ranges[op_name][M]\n",
    "            image = operation(image, mag)\n",
    "        return image\n",
    "\n",
    "    def rotate_with_fill(self, img, magnitude):\n",
    "        #  I  don't know why  rotate  must change to RGBA , it is  copy  from Autoaugment - pytorch\n",
    "        rot = img.convert(\"RGBA\").rotate(magnitude)\n",
    "        return Image.composite(rot, Image.new(\"RGBA\", rot.size, (128,) * 4), rot).convert(img.mode)\n",
    "\n",
    "    def test_single_operation(self, image, op_name, M=-1):\n",
    "        '''\n",
    "        :param image: image\n",
    "        :param op_name: operation name in   self.transforms\n",
    "        :param M: -1  stands  for the  max   Magnitude  in  there operation\n",
    "        :return:\n",
    "        '''\n",
    "        operation = self.func[op_name]\n",
    "        mag = self.ranges[op_name][M]\n",
    "        image = operation(image, mag)\n",
    "        return image\n",
    "randaugment = Rand_Augment()\n",
    "def preprocessing_function(image):\n",
    "    image = Image.fromarray(image.astype(np.uint8))\n",
    "    image = np.array(randaugment(image))\n",
    "    return image\n",
    "\n",
    "def get_feature(select_pre,train):\n",
    "    pre_trained_model = select_pre(weights='imagenet',\n",
    "        input_shape=(train.shape[1], train.shape[2], 3), include_top=False, classes=2,pooling = \"avg\")\n",
    "#     for layer in pre_trained_model.layers:\n",
    "#         print(layer.name)\n",
    "    for layer in pre_trained_model.layers:\n",
    "        layer.trainable = False\n",
    "    if select_pre == iv3:\n",
    "        last_layer = pre_trained_model.get_layer('mixed7')\n",
    "    elif select_pre == VGG16:\n",
    "        last_layer = pre_trained_model.get_layer('block5_pool')\n",
    "    elif select_pre == efn.EfficientNetB0:\n",
    "        last_layer = pre_trained_model.get_layer('top_activation')\n",
    "    elif select_pre == MobileNetV2:\n",
    "        last_layer = pre_trained_model.get_layer('out_relu')\n",
    "    elif select_pre == VGG19:\n",
    "        last_layer = pre_trained_model.get_layer('block5_pool')\n",
    "    elif select_pre == ivr2:\n",
    "        last_layer = pre_trained_model.get_layer('block8_10_mixed')\n",
    "    elif select_pre == DenseNet121:\n",
    "        last_layer = pre_trained_model.get_layer('conv5_block16_concat')\n",
    "    elif select_pre == Xception:\n",
    "        last_layer = pre_trained_model.get_layer('block13_pool')#block13_pool\n",
    "    elif select_pre == ResNet50:\n",
    "        last_layer = pre_trained_model.get_layer('add_16')\n",
    "    print ('last layer output shape:', last_layer.output_shape)\n",
    "    # shape = last_layer.output_shape[-1]\n",
    "    shape = 1\n",
    "    for j in last_layer.output_shape:\n",
    "        if j != None:\n",
    "            shape *= j\n",
    "    last_output = last_layer.output\n",
    "    x = layers.Flatten()(last_output)\n",
    "    model = Model(pre_trained_model.input, x) \n",
    "    train = train.astype(\"float32\")\n",
    "    feature_train =np.empty((train.shape[0],shape))\n",
    "    for i in range(0,train.shape[0],64):   \n",
    "        feature_train[i:i+64] = model.predict(train[i:i+64])\n",
    "    return feature_train"
   ]
  },
  {
   "cell_type": "code",
   "execution_count": 6,
   "metadata": {},
   "outputs": [
    {
     "name": "stdout",
     "output_type": "stream",
     "text": [
      "(208, 224, 224, 3)\n",
      "(208, 1)\n"
     ]
    },
    {
     "data": {
      "text/plain": [
       "Counter({0: 100, 1: 108})"
      ]
     },
     "execution_count": 6,
     "metadata": {},
     "output_type": "execute_result"
    }
   ],
   "source": [
    "path = [\n",
    "    '20201012_nigrosome_image/Control_100/',\n",
    "        '20201012_nigrosome_image/PD_108/Loss_55/',\n",
    "        '20201012_nigrosome_image/PD_108/Partial_53/'\n",
    "       ]\n",
    "target_names = [ 'Control','Loss+Partial']\n",
    "data = []\n",
    "label = []\n",
    "for e,k in enumerate(path):   \n",
    "    filelist = sorted(os.listdir(k)) \n",
    "    for i in (x for x in filelist if x[-4:]==\".jpg\"):          \n",
    "        img = cv2.resize(cv2.imread(k+i), (224, 224), interpolation=cv2.INTER_CUBIC)  \n",
    "        data.append(img)\n",
    "        label.append(e if e==0 else 1)  \n",
    "        \n",
    "data = np.array(data)\n",
    "label = np.array(label).reshape(-1,1)\n",
    "n_classes = label.shape[1]\n",
    "print(data.shape)\n",
    "print(label.shape)\n",
    "collections.Counter(label.reshape(-1))"
   ]
  },
  {
   "cell_type": "code",
   "execution_count": 9,
   "metadata": {
    "scrolled": true
   },
   "outputs": [
    {
     "name": "stdout",
     "output_type": "stream",
     "text": [
      "au\n",
      "ex\n",
      "Processing fold # 0\n",
      "last layer output shape: (None, 7, 7, 1280)\n",
      "last layer output shape: (None, 7, 7, 1280)\n",
      "(1716, 62720)\n"
     ]
    },
    {
     "name": "stderr",
     "output_type": "stream",
     "text": [
      "/nfs/Workspace/venv/lib/python3.8/site-packages/sklearn/utils/validation.py:63: DataConversionWarning: A column-vector y was passed when a 1d array was expected. Please change the shape of y to (n_samples, ), for example using ravel().\n",
      "  return f(*args, **kwargs)\n"
     ]
    },
    {
     "name": "stdout",
     "output_type": "stream",
     "text": [
      "0.8269230769230769\n",
      "[[21  8]\n",
      " [ 1 22]]\n",
      "0.8268590455049944\n",
      "Recall: 0.9565217391304348\n",
      "Processing fold # 1\n"
     ]
    },
    {
     "name": "stderr",
     "output_type": "stream",
     "text": [
      "<ipython-input-9-3ffc8af8c632>:85: DeprecationWarning: scipy.interp is deprecated and will be removed in SciPy 2.0.0, use numpy.interp instead\n",
      "  tprs.append(interp(mean_fpr,fpr,tpr))\n"
     ]
    },
    {
     "name": "stdout",
     "output_type": "stream",
     "text": [
      "last layer output shape: (None, 7, 7, 1280)\n",
      "last layer output shape: (None, 7, 7, 1280)\n",
      "(1716, 62720)\n"
     ]
    },
    {
     "name": "stderr",
     "output_type": "stream",
     "text": [
      "/nfs/Workspace/venv/lib/python3.8/site-packages/sklearn/utils/validation.py:63: DataConversionWarning: A column-vector y was passed when a 1d array was expected. Please change the shape of y to (n_samples, ), for example using ravel().\n",
      "  return f(*args, **kwargs)\n"
     ]
    },
    {
     "name": "stdout",
     "output_type": "stream",
     "text": [
      "0.75\n",
      "[[20  6]\n",
      " [ 7 19]]\n",
      "0.7499075101738808\n",
      "Recall: 0.7307692307692307\n",
      "Processing fold # 2\n"
     ]
    },
    {
     "name": "stderr",
     "output_type": "stream",
     "text": [
      "<ipython-input-9-3ffc8af8c632>:85: DeprecationWarning: scipy.interp is deprecated and will be removed in SciPy 2.0.0, use numpy.interp instead\n",
      "  tprs.append(interp(mean_fpr,fpr,tpr))\n"
     ]
    },
    {
     "name": "stdout",
     "output_type": "stream",
     "text": [
      "last layer output shape: (None, 7, 7, 1280)\n",
      "last layer output shape: (None, 7, 7, 1280)\n",
      "(1716, 62720)\n"
     ]
    },
    {
     "name": "stderr",
     "output_type": "stream",
     "text": [
      "/nfs/Workspace/venv/lib/python3.8/site-packages/sklearn/utils/validation.py:63: DataConversionWarning: A column-vector y was passed when a 1d array was expected. Please change the shape of y to (n_samples, ), for example using ravel().\n",
      "  return f(*args, **kwargs)\n"
     ]
    },
    {
     "name": "stdout",
     "output_type": "stream",
     "text": [
      "0.75\n",
      "[[18  6]\n",
      " [ 7 21]]\n",
      "0.7491651205936921\n",
      "Recall: 0.75\n",
      "Processing fold # 3\n"
     ]
    },
    {
     "name": "stderr",
     "output_type": "stream",
     "text": [
      "<ipython-input-9-3ffc8af8c632>:85: DeprecationWarning: scipy.interp is deprecated and will be removed in SciPy 2.0.0, use numpy.interp instead\n",
      "  tprs.append(interp(mean_fpr,fpr,tpr))\n"
     ]
    },
    {
     "name": "stdout",
     "output_type": "stream",
     "text": [
      "last layer output shape: (None, 7, 7, 1280)\n",
      "last layer output shape: (None, 7, 7, 1280)\n",
      "(1716, 62720)\n"
     ]
    },
    {
     "name": "stderr",
     "output_type": "stream",
     "text": [
      "/nfs/Workspace/venv/lib/python3.8/site-packages/sklearn/utils/validation.py:63: DataConversionWarning: A column-vector y was passed when a 1d array was expected. Please change the shape of y to (n_samples, ), for example using ravel().\n",
      "  return f(*args, **kwargs)\n"
     ]
    },
    {
     "name": "stdout",
     "output_type": "stream",
     "text": [
      "0.6923076923076923\n",
      "[[13  8]\n",
      " [ 8 23]]\n",
      "0.6804915514592934\n",
      "Recall: 0.7419354838709677\n"
     ]
    },
    {
     "name": "stderr",
     "output_type": "stream",
     "text": [
      "<ipython-input-9-3ffc8af8c632>:85: DeprecationWarning: scipy.interp is deprecated and will be removed in SciPy 2.0.0, use numpy.interp instead\n",
      "  tprs.append(interp(mean_fpr,fpr,tpr))\n"
     ]
    },
    {
     "data": {
      "image/png": "[encoded data removed]",
      "text/plain": [
       "<Figure size 432x288 with 1 Axes>"
      ]
     },
     "metadata": {
      "needs_background": "light"
     },
     "output_type": "display_data"
    },
    {
     "name": "stdout",
     "output_type": "stream",
     "text": [
      "Avg_F1: 0.7516058069329652\n",
      "Avg_Acc: 0.7548076923076923\n",
      "Avg_recall: 0.7948066134426583\n"
     ]
    }
   ],
   "source": [
    "random.seed(5478)\n",
    "s = np.arange(label.shape[0])\n",
    "np.random.shuffle(s)\n",
    "data = data[s]\n",
    "label = label[s]\n",
    "\n",
    "K = 4\n",
    "num_val_samples = int(len(data)/K)\n",
    "f1_avg=0.0\n",
    "acc_avg=0.0\n",
    "avg_recall=0.0\n",
    "tprs=[]\n",
    "aucs=[]\n",
    "mean_fpr=np.linspace(0,1,100)\n",
    "aug = True\n",
    "ex = True\n",
    "f1_ = 0\n",
    "print(\"au\" if aug==True else \"noau\")\n",
    "print(\"ex\" if ex==True else \"noex\")\n",
    "cm=[]\n",
    "for i in range(K):\n",
    "    print('Processing fold #', i)\n",
    "    x_test = data[i*num_val_samples : (i+1)*num_val_samples]/255.\n",
    "    y_test = label[i*num_val_samples : (i+1)*num_val_samples]\n",
    "    x_train = np.concatenate( \n",
    "                         [data[: i*num_val_samples],\n",
    "                         data[(i+1)*num_val_samples :]],\n",
    "                         axis = 0)\n",
    "    y_train = np.concatenate(\n",
    "                         [label[: i*num_val_samples],\n",
    "                         label[(i+1)*num_val_samples :]],\n",
    "                         axis = 0)\n",
    "    if aug == True:\n",
    "        aug_img =[]\n",
    "        for c in range(x_train.shape[0]):   \n",
    "            for j in range(10):\n",
    "                x_train = np.concatenate((x_train,preprocessing_function(x_train[c]).reshape(-1,224,224,3)))\n",
    "                y_train = np.concatenate((y_train,y_train[c].reshape(-1,1)))\n",
    "                \n",
    "    t = np.arange(y_train.shape[0])\n",
    "    np.random.shuffle(t)\n",
    "    x_train = x_train[t]/255.\n",
    "    y_train = y_train[t]\n",
    "    if ex == True:\n",
    "        train_ex = get_feature(efn.EfficientNetB0,x_train)\n",
    "        test_ex = get_feature(efn.EfficientNetB0,x_test)\n",
    "            \n",
    "    else:\n",
    "        train_ex = x_train.reshape(-1,224*224*3)\n",
    "        test_ex = x_test.reshape(-1,224*224*3)\n",
    "\n",
    "\n",
    "    train_num = train_ex.shape[0]\n",
    "    test_num = test_ex.shape[0]\n",
    "    \n",
    "\n",
    "    print(train_ex.shape)\n",
    "    predictor = svm.SVC(gamma='scale', C=1.0, decision_function_shape='ovr', kernel='rbf')\n",
    "    # predictor.fit(x_train, y_train)\n",
    "    y_score = predictor.fit(train_ex, y_train).decision_function(test_ex).reshape((-1,1))\n",
    "\n",
    "    result = predictor.predict(test_ex)\n",
    "    \n",
    "\n",
    "    # print(result)\n",
    "    # print(y_test)\n",
    "    accurancy = np.sum(np.equal(result, y_test.reshape(-1))) / len(y_test)\n",
    "    print(accurancy)\n",
    "    from sklearn.metrics import confusion_matrix,f1_score\n",
    "    print(confusion_matrix(y_true=y_test, y_pred=result))\n",
    "    cm.append(confusion_matrix(y_true=y_test, y_pred=result))\n",
    "    f1 = f1_score(y_true=y_test, y_pred=result, average='macro')\n",
    "    print(f1)\n",
    "    if f1>f1_:\n",
    "        predictor_ = predictor\n",
    "    print('Recall:', metrics.recall_score(y_true=y_test, y_pred=result))\n",
    "    f1_avg+=f1_score(y_true=y_test, y_pred=result, average='macro')\n",
    "    acc_avg+=accurancy\n",
    "    avg_recall+= metrics.recall_score(y_true=y_test, y_pred=result)\n",
    "\n",
    "\n",
    "\n",
    "    fpr,tpr,thresholds=roc_curve(y_test[:,0],y_score[:,0])\n",
    "\n",
    "    tprs.append(interp(mean_fpr,fpr,tpr))\n",
    "    tprs[-1][0]=0.0\n",
    "    roc_auc=auc(fpr,tpr)\n",
    "    aucs.append(roc_auc)\n",
    "    \n",
    "    plt.plot(fpr,tpr,lw=1,alpha=0.3,label='ROC fold %d(area=%0.2f)'% (i,roc_auc))\n",
    "\n",
    "plt.plot([0,1],[0,1],linestyle='--',lw=2,color='r',label='Luck',alpha=.8)\n",
    "mean_tpr=np.mean(tprs,axis=0)\n",
    "mean_tpr[-1]=1.0\n",
    "mean_auc=auc(mean_fpr,mean_tpr)#计算平均AUC值\n",
    "std_auc=np.std(tprs,axis=0)\n",
    "plt.plot(mean_fpr,mean_tpr,color='b',label=r'Mean ROC (area=%0.2f)'%mean_auc,lw=2,alpha=.8)\n",
    "std_tpr=np.std(tprs,axis=0)\n",
    "tprs_upper=np.minimum(mean_tpr+std_tpr,1)\n",
    "tprs_lower=np.maximum(mean_tpr-std_tpr,0)\n",
    "# plt.fill_between(mean_tpr,tprs_lower,tprs_upper,color='gray',alpha=.2)\n",
    "plt.xlim([-0.05,1.05])\n",
    "plt.ylim([-0.05,1.05])\n",
    "plt.xlabel('False Positive Rate')\n",
    "plt.ylabel('True Positive Rate')\n",
    "plt.title('Mean ROC')\n",
    "plt.legend(loc='lower right')\n",
    "# plt.savefig('None.png',dpi=600)\n",
    "plt.show()     \n",
    "\n",
    "\n",
    "print(\"Avg_F1:\",f1_avg/K)\n",
    "print(\"Avg_Acc:\",acc_avg/K)\n",
    "print(\"Avg_recall:\",avg_recall/K)"
   ]
  },
  {
   "cell_type": "code",
   "execution_count": 10,
   "metadata": {},
   "outputs": [
    {
     "name": "stdout",
     "output_type": "stream",
     "text": [
      "Normalized confusion matrix\n",
      "[[0.72413793 0.27586207]\n",
      " [0.04347826 0.95652174]]\n"
     ]
    },
    {
     "data": {
      "image/png": "[encoded data removed]",
      "text/plain": [
       "<Figure size 432x288 with 2 Axes>"
      ]
     },
     "metadata": {
      "needs_background": "light"
     },
     "output_type": "display_data"
    },
    {
     "name": "stdout",
     "output_type": "stream",
     "text": [
      "Normalized confusion matrix\n",
      "[[0.76923077 0.23076923]\n",
      " [0.26923077 0.73076923]]\n"
     ]
    },
    {
     "data": {
      "image/png": "[encoded data removed]",
      "text/plain": [
       "<Figure size 432x288 with 2 Axes>"
      ]
     },
     "metadata": {
      "needs_background": "light"
     },
     "output_type": "display_data"
    },
    {
     "name": "stdout",
     "output_type": "stream",
     "text": [
      "Normalized confusion matrix\n",
      "[[0.75 0.25]\n",
      " [0.25 0.75]]\n"
     ]
    },
    {
     "data": {
      "image/png": "[encoded data removed]",
      "text/plain": [
       "<Figure size 432x288 with 2 Axes>"
      ]
     },
     "metadata": {
      "needs_background": "light"
     },
     "output_type": "display_data"
    },
    {
     "name": "stdout",
     "output_type": "stream",
     "text": [
      "Normalized confusion matrix\n",
      "[[0.61904762 0.38095238]\n",
      " [0.25806452 0.74193548]]\n"
     ]
    },
    {
     "data": {
      "image/png": "[encoded data removed]",
      "text/plain": [
       "<Figure size 432x288 with 2 Axes>"
      ]
     },
     "metadata": {
      "needs_background": "light"
     },
     "output_type": "display_data"
    }
   ],
   "source": [
    "for e,i in enumerate(cm):\n",
    "    plt.figure()\n",
    "    plot_confusion_matrix(i, classes=target_names,normalize=True,\n",
    "                        title=\"confusion matrix\")\n",
    "#     plt.savefig('None'+str(e)+'.png',dpi=600)\n",
    "    plt.show()     "
   ]
  },
  {
   "cell_type": "code",
   "execution_count": 6,
   "metadata": {},
   "outputs": [],
   "source": [
    "#     data = {\n",
    "#         '_': [\"Transfer+Aug\",\"Transfer\",\"Augmented\",\"Baseline\"],\n",
    "#         'F1': [0.78,0.71,0.59,0.61],\n",
    "#         'ACC': [0.78,0.71,0.63,0.64],\n",
    "#         'AUC': [0.82,0.80,0.65,0.69]\n",
    "        \n",
    "#     }\n",
    "\n",
    "#     df = pd.DataFrame(data)\n",
    "\n",
    "#     fig, ax = plt.subplots(figsize=(3, 3))\n",
    "\n",
    "#     ax.axis('off')\n",
    "#     ax.axis('tight')\n",
    "\n",
    "#     tb = ax.table(cellText=df.values,\n",
    "#                   colLabels=df.columns,\n",
    "#                   bbox=[0, 0, 1, 1],\n",
    "#                   )\n",
    "\n",
    "#     tb[0,0].set_facecolor('#363636')\n",
    "#     tb[0, 1].set_facecolor('#363636')\n",
    "#     tb[0,2].set_facecolor('#363636')\n",
    "#     tb[0, 3].set_facecolor('#363636')\n",
    "#     tb[0, 0].set_text_props(color='w')\n",
    "#     tb[0, 1].set_text_props(color='w')\n",
    "#     tb[0, 2].set_text_props(color='w')\n",
    "#     tb[0, 3].set_text_props(color='w')\n",
    "#     tb[1, 1].set_text_props(color='r')\n",
    "#     tb[1, 2].set_text_props(color='r')\n",
    "#     tb[1, 3].set_text_props(color='r')\n",
    "#     plt.savefig('table.png',dpi=600)\n",
    "\n",
    "#     plt.show()\n"
   ]
  },
  {
   "cell_type": "code",
   "execution_count": null,
   "metadata": {},
   "outputs": [],
   "source": []
  }
 ],
 "metadata": {
  "kernelspec": {
   "display_name": "tf115",
   "language": "python",
   "name": "tf115"
  },
  "language_info": {
   "codemirror_mode": {
    "name": "ipython",
    "version": 3
   },
   "file_extension": ".py",
   "mimetype": "text/x-python",
   "name": "python",
   "nbconvert_exporter": "python",
   "pygments_lexer": "ipython3",
   "version": "3.8.5"
  }
 },
 "nbformat": 4,
 "nbformat_minor": 4
}
